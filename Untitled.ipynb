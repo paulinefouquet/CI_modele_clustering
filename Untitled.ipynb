{
 "cells": [
  {
   "cell_type": "code",
   "execution_count": null,
   "id": "2f3ccb77-9d1d-4243-a146-f481bf7c4b5c",
   "metadata": {},
   "outputs": [],
   "source": [
    "import pandas as pd"
   ]
  },
  {
   "cell_type": "code",
   "execution_count": null,
   "id": "f06c22eb-b8d8-42fd-a6d9-a2052c0d3daa",
   "metadata": {},
   "outputs": [],
   "source": [
    "def read_data():\n",
    "    # Path to the CSV file in the data directory\n",
    "    csv_file_path = \"data/Mall_Customers.csv\"\n",
    "\n",
    "    # Read the CSV file directly\n",
    "    df = pd.read_csv(csv_file_path)\n",
    "\n",
    "    # Convert the 'Gender' column to 0 for Female and 1 for Male\n",
    "    df[\"Gender\"] = df[\"Gender\"].map({\"Female\": 0, \"Male\": 1})\n",
    "\n",
    "    # Prepare the data for clustering\n",
    "    X = df.drop(columns=[\"CustomerID\", \"Gender\"]).values\n",
    "\n",
    "    return X"
   ]
  },
  {
   "cell_type": "code",
   "execution_count": null,
   "id": "3507904c-a3cc-4965-a230-038661db3700",
   "metadata": {},
   "outputs": [],
   "source": [
    "read_data()"
   ]
  }
 ],
 "metadata": {
  "kernelspec": {
   "display_name": "Python 3 (ipykernel)",
   "language": "python",
   "name": "python3"
  },
  "language_info": {
   "codemirror_mode": {
    "name": "ipython",
    "version": 3
   },
   "file_extension": ".py",
   "mimetype": "text/x-python",
   "name": "python",
   "nbconvert_exporter": "python",
   "pygments_lexer": "ipython3",
   "version": "3.11.7"
  }
 },
 "nbformat": 4,
 "nbformat_minor": 5
}
